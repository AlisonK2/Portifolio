{
  "cells": [
    {
      "cell_type": "markdown",
      "metadata": {
        "id": "m5XnZer9E9yB"
      },
      "source": [
        "### Importing Libraries and Database"
      ]
    },
    {
      "cell_type": "code",
      "execution_count": 2,
      "metadata": {
        "id": "W5yRRmQq-2H7"
      },
      "outputs": [
        {
          "ename": "ModuleNotFoundError",
          "evalue": "No module named 'pandas'",
          "output_type": "error",
          "traceback": [
            "\u001b[1;31m---------------------------------------------------------------------------\u001b[0m",
            "\u001b[1;31mModuleNotFoundError\u001b[0m                       Traceback (most recent call last)",
            "Cell \u001b[1;32mIn [2], line 1\u001b[0m\n\u001b[1;32m----> 1\u001b[0m \u001b[38;5;28;01mimport\u001b[39;00m \u001b[38;5;21;01mpandas\u001b[39;00m \u001b[38;5;28;01mas\u001b[39;00m \u001b[38;5;21;01mpd\u001b[39;00m\n\u001b[0;32m      2\u001b[0m \u001b[38;5;28;01mfrom\u001b[39;00m \u001b[38;5;21;01mmath\u001b[39;00m \u001b[38;5;28;01mimport\u001b[39;00m sqrt\n\u001b[0;32m      3\u001b[0m \u001b[38;5;28;01mimport\u001b[39;00m \u001b[38;5;21;01mmatplotlib\u001b[39;00m\u001b[38;5;21;01m.\u001b[39;00m\u001b[38;5;21;01mpyplot\u001b[39;00m \u001b[38;5;28;01mas\u001b[39;00m \u001b[38;5;21;01mplt\u001b[39;00m\n",
            "\u001b[1;31mModuleNotFoundError\u001b[0m: No module named 'pandas'"
          ]
        }
      ],
      "source": [
        "import pandas as pd\n",
        "from math import sqrt\n",
        "import matplotlib.pyplot as plt\n",
        "from sklearn.linear_model import LinearRegression\n",
        "from sklearn.model_selection import train_test_split\n",
        "from sklearn.feature_selection import SelectKBest, f_regression\n",
        "from sklearn.preprocessing import StandardScaler, OneHotEncoder\n",
        "from sklearn.metrics import r2_score, mean_squared_error, mean_absolute_error\n",
        "\n",
        "#Defining the database and making the type of some variables explicit as categorical\n",
        "data = pd.read_csv('anime.csv', dtype = {'startYr': 'category', 'finishYr': 'category', }, decimal = '.')\n"
      ]
    },
    {
      "cell_type": "markdown",
      "metadata": {
        "id": "o9E6CKo1Au0t"
      },
      "source": [
        "### Data Processing\n",
        "\n",
        "- title (String): Anime title - Ex: \"Attack on Titan 3rd Season: Part II\"\n",
        "- description (String): Anime description - Ex: \"Naruto the orphan has always wanted a family, [...]\"\n",
        "- contentWarn (Lista de String): Content warning - Ex: ['Violence']\n"
      ]
    },
    {
      "cell_type": "code",
      "execution_count": 2,
      "metadata": {
        "id": "-jNnYhM2BNkX"
      },
      "outputs": [],
      "source": [
        "# Excluding columns that will not be used -> \"description\" and \"contentWarn\" (90% of data is \"[]\")\n",
        "data = data.drop(['title', 'description', 'contentWarn', 'studios', 'tags'], axis = 1)"
      ]
    },
    {
      "cell_type": "markdown",
      "metadata": {
        "id": "5ghuUcf4DrEh"
      },
      "source": [
        "- mediaType (String-Categórica): Anime media type - Categorias: [TV, TV Special, Movie, OVA, Music Video, Web, DVD Special]\n",
        "\n"
      ]
    },
    {
      "cell_type": "code",
      "execution_count": 3,
      "metadata": {
        "id": "7Grwl328D6_4"
      },
      "outputs": [],
      "source": [
        "# Inserting value 'TV'(mode) in column \"mediaType\" where it has value null\n",
        "data.mediaType.fillna('TV', inplace = True)\n",
        "\n",
        "# Changing the values ​​\"TV\" to 0, \"Movie\" to 1, \"OVA\" to 2, \"Music Video\" to 3, \"Web\" to 4, \"DVD Special\" to 5, \"Other\" to 6, \"TV Special \" by 7 in the column \"mediaType\"\n",
        "data.loc[data.mediaType == 'TV', 'mediaType'] = 0\n",
        "data.loc[data.mediaType == 'Movie', 'mediaType'] = 1\n",
        "data.loc[data.mediaType == 'OVA', 'mediaType'] = 2\n",
        "data.loc[data.mediaType == 'Music Video', 'mediaType'] = 3\n",
        "data.loc[data.mediaType == 'Web', 'mediaType'] = 4\n",
        "data.loc[data.mediaType == 'DVD Special', 'mediaType'] = 5\n",
        "data.loc[data.mediaType == 'Other', 'mediaType'] = 6\n",
        "data.loc[data.mediaType == 'TV Special', 'mediaType'] = 7\n",
        "\n",
        "enc = OneHotEncoder(drop = 'first')\n",
        "enc_df = pd.DataFrame(enc.fit_transform(data[['mediaType']]).toarray())\n",
        "data = data.join(enc_df)\n",
        "data.drop(['mediaType'], axis = 1, inplace = True)\n",
        "\n",
        "data = data.rename(columns = {0: 'feature0', 1: 'feature1', 2: 'feature2', 3: 'feature3', 4: 'feature4', 5: 'feature5', 6: 'feature6'})"
      ]
    },
    {
      "cell_type": "markdown",
      "metadata": {
        "id": "4rrZc2QAF-w5"
      },
      "source": [
        "- eps (Int): Number of episodes - Interval: 1-2527\n",
        "\n",
        "- duration (Int): Average anime episode length, given in minutes - Interval: 1-235\n",
        "\n"
      ]
    },
    {
      "cell_type": "code",
      "execution_count": 4,
      "metadata": {
        "id": "Xb0thqplGO4V"
      },
      "outputs": [],
      "source": [
        "# Inserting value '12' (mode) in column \"eps\" where it has null value\n",
        "data['eps'] =  data ['eps'].astype('float64')\n",
        "data['eps'].fillna(12, inplace = True)\n",
        "\n",
        "# Inserting value '22' (mode) in column \"duration\" where it has null value\n",
        "data['duration'] = data['duration'].astype('float64')\n",
        "data['duration'].fillna(22, inplace = True)\n",
        "\n",
        "# Transforming the \"duration\" column into the total time it would take to watch the entire anime\n",
        "data['duration'] = data['eps'] * data['duration']"
      ]
    },
    {
      "cell_type": "markdown",
      "metadata": {
        "id": "OQvJ9jz3JHxp"
      },
      "source": [
        "- watched (Int): Number of people who attended - Interval: 0-162000\n"
      ]
    },
    {
      "cell_type": "code",
      "execution_count": 5,
      "metadata": {
        "id": "dCBILPQVJU6V"
      },
      "outputs": [],
      "source": [
        "# Inserting value \"1471\"(fashion) in column \"watched\" where it has null value\n",
        "data.watched.fillna(1471, inplace = True)"
      ]
    },
    {
      "cell_type": "markdown",
      "metadata": {
        "id": "zYkaNNu3JyAO"
      },
      "source": [
        "- rating (Int): end note of the anime - Interval: 0.84-4.7\n",
        "\n",
        "- votes (Int): Number of votes to contribute to the final grade - Interval: 10-131000\n",
        "\n",
        "\n"
      ]
    },
    {
      "cell_type": "code",
      "execution_count": 6,
      "metadata": {
        "colab": {
          "base_uri": "https://localhost:8080/"
        },
        "id": "M86aSoOOJwoU",
        "outputId": "b70b5b9b-485f-4e6c-ec99-055214c7168d"
      },
      "outputs": [
        {
          "name": "stdout",
          "output_type": "stream",
          "text": [
            "218.0\n"
          ]
        }
      ],
      "source": [
        "# Inserting the median (=~2.965) in the \"rating\" column where it has null value\n",
        "data.rating.fillna(2.9, inplace = True)\n",
        "\n",
        "# Inserting the median (218) in the \"votes\" column where it has null value\n",
        "data.votes.fillna(data.votes.median(), inplace = True)\n",
        "print(data.votes.median())\n"
      ]
    },
    {
      "cell_type": "markdown",
      "metadata": {
        "id": "AwcZ7TOSKpwt"
      },
      "source": [
        "- ongoing (Boolean): Whether or not the anime is in production yet - True(2%) e False(98%)\n",
        "\n",
        "\n",
        "- startYr (Int): Release year - Interval: 1907-2026\n",
        "\n",
        "\n",
        "- finishYr (Int): Anime ending year - Interval: 1907-2026\n",
        "\n"
      ]
    },
    {
      "cell_type": "code",
      "execution_count": 7,
      "metadata": {
        "id": "gEuzrYnjLC0o"
      },
      "outputs": [],
      "source": [
        "# Changing 'True' to '1' and 'False' to 0 in column \"ongoing\"\n",
        "data.loc[data.ongoing == False, 'ongoing'] = 0\n",
        "data.loc[data.ongoing == True, 'ongoing'] = 1\n",
        "\n",
        "# Inserting the value '2016'(mode) in the column \"startYr\" where it has a null value and transforming it into a categorical variable\n",
        "data.startYr.fillna(data.startYr.mode(), inplace = True)\n",
        "data.startYr = data.startYr.astype('category').cat.codes\n",
        "\n",
        "# Inserting the value '2016'(fashion) in the column \"finishYr\" where it has a null value and transforming it into a categorical variable\n",
        "data.finishYr.fillna(data.finishYr.mode(), inplace = True)\n",
        "data.finishYr = data.finishYr.astype('category').cat.codes"
      ]
    },
    {
      "cell_type": "markdown",
      "metadata": {
        "id": "4Vp0tqylMK9Q"
      },
      "source": [
        "- sznOfRelease (String-Categórica): Season of the year it was released - Categorias: [Spring, Winter, Fall, Summer]\n"
      ]
    },
    {
      "cell_type": "code",
      "execution_count": 8,
      "metadata": {
        "id": "IEdGmW4qMb1V"
      },
      "outputs": [],
      "source": [
        "# Inserting the value 'Spring' (fashion) in the column \"sznOfRelease\" where it has null value\n",
        "data.sznOfRelease.fillna('Spring', inplace = True)\n",
        "\n",
        "# Changing 'Spring' to '0', 'Winter' to 1, 'Fall' to 2 and 'Summer' to 3 in column \"sznOfRelease\"\n",
        "data.loc[data.sznOfRelease == 'Spring', 'sznOfRelease'] = 0\n",
        "data.loc[data.sznOfRelease == 'Fall', 'sznOfRelease'] = 1\n",
        "data.loc[data.sznOfRelease == 'Winter', 'sznOfRelease'] = 2\n",
        "data.loc[data.sznOfRelease == 'Summer', 'sznOfRelease'] = 3\n",
        "\n",
        "enc = OneHotEncoder(drop = 'first')\n",
        "enc_df = pd.DataFrame(enc.fit_transform(data[['sznOfRelease']]).toarray())\n",
        "data = data.join(enc_df)\n",
        "data.drop(['sznOfRelease'], axis = 1)\n",
        "\n",
        "data = data.rename(columns = {0: 'feature7', 1: 'feature8', 2: 'feature9', 3: 'feature10'})"
      ]
    },
    {
      "cell_type": "markdown",
      "metadata": {
        "id": "Y61pIHMpNlGI"
      },
      "source": [
        "Nothing was done with the following variables as they already came with no missing values:\n",
        "- watching (Int): Number of people watching - Interval: 0-74500\n",
        "\n",
        "- wantWatch (Int): Number of people who want to watch - Interval: 0-28500\n",
        "\n",
        "- dropped (Int):  Number of people who started but stopped watching - Interval: 0-19500\n",
        "\n"
      ]
    },
    {
      "cell_type": "markdown",
      "metadata": {
        "id": "c6TA2PcKN_wg"
      },
      "source": [
        "### Machine Learning Algorithm"
      ]
    },
    {
      "cell_type": "code",
      "execution_count": 9,
      "metadata": {
        "id": "VjwhMx6MXwI0"
      },
      "outputs": [],
      "source": [
        "y = data.rating\n",
        "x = data.drop(['rating'], axis = 1)\n",
        "\n",
        "Xtrain, Xval, Ytrain, Yval = train_test_split(x, y, test_size = 0.3, random_state = 0)\n",
        "\n",
        "scaler = StandardScaler()\n",
        "Xtrain_scaled = scaler.fit_transform(Xtrain)\n",
        "Xval_scaled = scaler.transform(Xval)"
      ]
    },
    {
      "cell_type": "code",
      "execution_count": 10,
      "metadata": {
        "colab": {
          "base_uri": "https://localhost:8080/"
        },
        "id": "spmp07r0X22s",
        "outputId": "ef66c6c3-c301-49b5-b8b3-defacc1a55be"
      },
      "outputs": [
        {
          "name": "stdout",
          "output_type": "stream",
          "text": [
            "Acurância: 35.070%\n",
            "Erro quadrático médio: 0.37\n",
            "Erro médio absoluto: 0.48\n",
            "Erro quadrático médio da raiz: 0.61\n"
          ]
        }
      ],
      "source": [
        "# ------------------------------------------- Linear Regression -------------------------------------------\n",
        "modelo = LinearRegression(n_jobs = 4)\n",
        "modelo.fit(Xtrain_scaled, Ytrain)\n",
        "\n",
        "y_pred = modelo.predict(Xtrain_scaled)\n",
        "\n",
        "score = r2_score(Ytrain,y_pred)\n",
        "p = modelo.predict(Xval_scaled)\n",
        "\n",
        "print(\"Acurância: {:.3f}%\".format(round(score*100, 2)) ) #35,07%\n",
        "print(\"Erro quadrático médio: \" + str(round(mean_squared_error(Yval, p), 2))) #MSE 0.37\n",
        "print(\"Erro médio absoluto: \" + str(round(mean_absolute_error(Yval, p), 2))) #MAE 0.48\n",
        "print(\"Erro quadrático médio da raiz: \" + str(round(sqrt(mean_squared_error(Yval, p)), 2))) #RMSE 0.61"
      ]
    },
    {
      "cell_type": "code",
      "execution_count": 11,
      "metadata": {
        "colab": {
          "base_uri": "https://localhost:8080/"
        },
        "id": "Ubgq-ilfZpl9",
        "outputId": "6a0a47a6-a2e2-4375-c478-b6b66812bd64"
      },
      "outputs": [
        {
          "name": "stdout",
          "output_type": "stream",
          "text": [
            "Acurância: 96.190%\n",
            "Erro quadrático médio: 0.16\n",
            "Erro médio absoluto: 0.28\n",
            "Erro quadrático médio da raiz: 0.4\n"
          ]
        }
      ],
      "source": [
        "from sklearn.ensemble import RandomForestRegressor\n",
        "# ------------------------------------------- Random Forest -------------------------------------------\n",
        "modelo = RandomForestRegressor(n_estimators = 1000, random_state = 42)\n",
        "modelo.fit(Xtrain_scaled, Ytrain)\n",
        "\n",
        "y_pred = modelo.predict(Xtrain_scaled)\n",
        "\n",
        "score = r2_score(Ytrain,y_pred)\n",
        "p = modelo.predict(Xval_scaled)\n",
        "\n",
        "print(\"Acurância: {:.3f}%\".format(round(score*100, 2)) ) #96,19%\n",
        "print(\"Erro quadrático médio: \" + str(round(mean_squared_error(Yval, p), 2))) #MSE 0.16\n",
        "print(\"Erro médio absoluto: \" + str(round(mean_absolute_error(Yval, p), 2))) #MAE 0.28\n",
        "print(\"Erro quadrático médio da raiz: \" + str(round(sqrt(mean_squared_error(Yval, p)), 2))) #RMSE 0.4"
      ]
    }
  ],
  "metadata": {
    "colab": {
      "provenance": []
    },
    "kernelspec": {
      "display_name": "Python 3.10.8 64-bit (microsoft store)",
      "language": "python",
      "name": "python3"
    },
    "language_info": {
      "codemirror_mode": {
        "name": "ipython",
        "version": 3
      },
      "file_extension": ".py",
      "mimetype": "text/x-python",
      "name": "python",
      "nbconvert_exporter": "python",
      "pygments_lexer": "ipython3",
      "version": "3.10.11"
    },
    "vscode": {
      "interpreter": {
        "hash": "0c2ee352f52d536fabde27fe81e301b4fc040826e2390c8a53cff83ae2436aaf"
      }
    }
  },
  "nbformat": 4,
  "nbformat_minor": 0
}
